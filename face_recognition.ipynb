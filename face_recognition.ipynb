{
 "cells": [
  {
   "cell_type": "code",
   "execution_count": null,
   "metadata": {
    "collapsed": false
   },
   "outputs": [],
   "source": []
  },
  {
   "cell_type": "markdown",
   "metadata": {},
   "source": [
    "\n",
    "# Faces recognition example using eigenfaces and SVMs\n",
    "\n",
    "\n",
    "The dataset used in this example is a preprocessed excerpt of the\n",
    "\"Labeled Faces in the Wild\", aka LFW_:\n",
    "\n",
    "  http://vis-www.cs.umass.edu/lfw/lfw-funneled.tgz (233MB)\n",
    "\n",
    ".. _LFW: http://vis-www.cs.umass.edu/lfw/\n",
    "\n",
    "Expected results for the top 5 most represented people in the dataset:\n",
    "\n",
    "================== ============ ======= ========== =======\n",
    "                   precision    recall  f1-score   support\n",
    "================== ============ ======= ========== =======\n",
    "     Ariel Sharon       0.67      0.92      0.77        13\n",
    "     Colin Powell       0.75      0.78      0.76        60\n",
    "  Donald Rumsfeld       0.78      0.67      0.72        27\n",
    "    George W Bush       0.86      0.86      0.86       146\n",
    "Gerhard Schroeder       0.76      0.76      0.76        25\n",
    "      Hugo Chavez       0.67      0.67      0.67        15\n",
    "       Tony Blair       0.81      0.69      0.75        36\n",
    "\n",
    "      avg / total       0.80      0.80      0.80       322\n",
    "================== ============ ======= ========== =======\n",
    "\n"
   ]
  },
  {
   "cell_type": "code",
   "execution_count": 1,
   "metadata": {
    "collapsed": false
   },
   "outputs": [
    {
     "name": "stdout",
     "output_type": "stream",
     "text": [
      "Automatically created module for IPython interactive environment\n"
     ]
    }
   ],
   "source": [
    "from __future__ import print_function\n",
    "\n",
    "from time import time\n",
    "import logging\n",
    "import matplotlib.pyplot as plt\n",
    "import scipy\n",
    "\n",
    "from sklearn.model_selection import train_test_split\n",
    "from sklearn.model_selection import RandomizedSearchCV\n",
    "from sklearn.model_selection import GridSearchCV\n",
    "from sklearn.datasets import fetch_lfw_people\n",
    "from sklearn.metrics import classification_report\n",
    "from sklearn.metrics import confusion_matrix\n",
    "from sklearn.metrics import f1_score\n",
    "from sklearn.decomposition import PCA\n",
    "from sklearn.svm import SVC\n",
    "\n",
    "#from sklearn.cross_validation import KFold\n",
    "import numpy as np\n",
    "\n",
    "print(__doc__)\n",
    "\n",
    "# Display progress logs on stdout\n",
    "logging.basicConfig(level=logging.INFO, format='%(asctime)s %(message)s')"
   ]
  },
  {
   "cell_type": "code",
   "execution_count": 2,
   "metadata": {
    "collapsed": false
   },
   "outputs": [],
   "source": [
    "def samplingNum(start=1, coef=[5,2], size=1):\n",
    "    list = []\n",
    "    for i in range (size):\n",
    "        list.append(start)\n",
    "        start = start*coef[i%2]\n",
    "    return list"
   ]
  },
  {
   "cell_type": "markdown",
   "metadata": {},
   "source": [
    "Download the data, if not already on disk and load it as numpy arrays\n"
   ]
  },
  {
   "cell_type": "code",
   "execution_count": 3,
   "metadata": {
    "collapsed": false
   },
   "outputs": [
    {
     "name": "stdout",
     "output_type": "stream",
     "text": [
      "['Ariel Sharon' 'Colin Powell' 'Donald Rumsfeld' 'George W Bush'\n",
      " 'Gerhard Schroeder' 'Hugo Chavez' 'Tony Blair']\n",
      "Total dataset size:\n",
      "n_samples: 1288\n",
      "n_features: 1850\n",
      "n_classes: 7\n",
      "height:  50\n",
      "width:  37\n"
     ]
    }
   ],
   "source": [
    "lfw_people = fetch_lfw_people(min_faces_per_person=70, resize=0.4)\n",
    "#X_train = np.load('X_train.npy')\n",
    "#y_train = np.load('y_train.npy')\n",
    "#X_test = np.load('X_test.npy')\n",
    "\n",
    "# introspect the images arrays to find the shapes (for plotting)\n",
    "n_samples, h, w = lfw_people.images.shape\n",
    "\n",
    "# for machine learning we use the 2 data directly (as relative pixel\n",
    "# positions info is ignored by this model)\n",
    "X = lfw_people.data\n",
    "#n_features = X_train.shape[1]\n",
    "n_features = X.shape[1]\n",
    "\n",
    "# the label to predict is the id of the person\n",
    "y = lfw_people.target\n",
    "target_names = lfw_people.target_names\n",
    "print(target_names)\n",
    "n_classes = target_names.shape[0]\n",
    "#n_classes = y_train.shape[0]\n",
    "\n",
    "print(\"Total dataset size:\")\n",
    "print(\"n_samples: %d\" % n_samples)\n",
    "print(\"n_features: %d\" % n_features)\n",
    "print(\"n_classes: %d\" % n_classes)\n",
    "print('height: ', h)\n",
    "print('width: ', w)\n",
    "#print('X_train: ', X_train)\n",
    "#print('y_train: ', y_train)"
   ]
  },
  {
   "cell_type": "markdown",
   "metadata": {},
   "source": [
    "Split into a training set and a test set using a stratified k fold\n"
   ]
  },
  {
   "cell_type": "code",
   "execution_count": 4,
   "metadata": {
    "collapsed": false
   },
   "outputs": [],
   "source": [
    "# split into a training and testing set\n",
    "X_train, X_test, y_train, y_test = train_test_split(\n",
    "    X, y, test_size=0.25, random_state=42)"
   ]
  },
  {
   "cell_type": "markdown",
   "metadata": {},
   "source": [
    "Compute a PCA (eigenfaces) on the face dataset (treated as unlabeled\n",
    "dataset): unsupervised feature extraction / dimensionality reduction\n"
   ]
  },
  {
   "cell_type": "code",
   "execution_count": 5,
   "metadata": {
    "collapsed": false
   },
   "outputs": [
    {
     "name": "stdout",
     "output_type": "stream",
     "text": [
      "Extracting the top 150 eigenfaces from 966 faces\n",
      "done in 0.353s\n",
      "Projecting the input data on the eigenfaces orthonormal basis\n",
      "done in 0.036s\n"
     ]
    }
   ],
   "source": [
    "n_components = 150\n",
    "#h = 50\n",
    "#w = 37\n",
    "\n",
    "print(\"Extracting the top %d eigenfaces from %d faces\"\n",
    "      % (n_components, X_train.shape[0]))\n",
    "t0 = time()\n",
    "pca = PCA(n_components=n_components, svd_solver='randomized',\n",
    "          whiten=True).fit(X_train)\n",
    "print(\"done in %0.3fs\" % (time() - t0))\n",
    "\n",
    "eigenfaces = pca.components_.reshape((n_components, h, w))\n",
    "\n",
    "print(\"Projecting the input data on the eigenfaces orthonormal basis\")\n",
    "t0 = time()\n",
    "X_train_pca = pca.transform(X_train)\n",
    "X_test_pca = pca.transform(X_test)\n",
    "print(\"done in %0.3fs\" % (time() - t0))"
   ]
  },
  {
   "cell_type": "markdown",
   "metadata": {},
   "source": [
    "Train a SVM classification model\n"
   ]
  },
  {
   "cell_type": "code",
   "execution_count": 6,
   "metadata": {
    "collapsed": false
   },
   "outputs": [
    {
     "name": "stdout",
     "output_type": "stream",
     "text": [
      "[0.1, 0.5, 1.0, 5.0, 10.0, 50.0, 100.0, 500.0, 1000.0, 5000.0, 10000.0, 50000.0, 100000.0, 500000.0]\n",
      "[0.0001, 0.0005, 0.001, 0.005, 0.01, 0.05, 0.1, 0.5, 1.0, 5.0]\n"
     ]
    }
   ],
   "source": [
    "C = samplingNum(start=0.1, size= 14)\n",
    "gamma = samplingNum(start=0.0001,size= 10)\n",
    "print(C)\n",
    "print(gamma)"
   ]
  },
  {
   "cell_type": "code",
   "execution_count": 14,
   "metadata": {
    "collapsed": false,
    "scrolled": true
   },
   "outputs": [
    {
     "name": "stdout",
     "output_type": "stream",
     "text": [
      "Fitting the classifier to the training set\n",
      "done in 89.418s\n",
      "Best estimator found by grid search:\n",
      "SVC(C=10, cache_size=200, class_weight='balanced', coef0=0.0,\n",
      "  decision_function_shape=None, degree=3, gamma=0.001, kernel='rbf',\n",
      "  max_iter=-1, probability=False, random_state=None, shrinking=True,\n",
      "  tol=0.001, verbose=False)\n",
      "0.844720496894\n"
     ]
    }
   ],
   "source": [
    "print(\"Fitting the classifier to the training set\")\n",
    "t0 = time()\n",
    "#C[0.1,1,10,100,1e3, 5e3, 1e4, 5e4, 1e5]\n",
    "#gamma[0.0001, 0.0005, 0.001, 0.005, 0.01, 0.05,0.1,0.5]\n",
    "param_grid = [\n",
    "{'C': [0.1,1,10,100,1e3, 5e3, 1e4, 5e4, 1e5], 'gamma': [0.0001, 0.0005, 0.001, 0.005, 0.01, 0.05,0.1,0.5], 'kernel': ['rbf']}]\n",
    "\n",
    "#param_grid = {'C': scipy.stats.expon(scale=100), 'gamma': scipy.stats.expon(scale=.1),\n",
    " # 'kernel': ['rbf'], 'class_weight':['balanced', None]}\n",
    "clf = GridSearchCV(SVC(class_weight='balanced'), param_grid)\n",
    "\n",
    "#clf = RandomizedSearchCV(SVC(class_weight='balanced'), param_grid)\n",
    "#clf = SVC(kernel='rbf', C=10, gamma=0.005) -> f1 0.86\n",
    "clf = clf.fit(X_train_pca, y_train)\n",
    "print(\"done in %0.3fs\" % (time() - t0))\n",
    "print(\"Best estimator found by grid search:\")\n",
    "\n",
    "fo = open('y_test_2.txt', 'w')\n",
    "fo.write(str(clf.best_estimator_) + \"\\n\")\n",
    "fo.close()\n",
    "print(clf.best_estimator_)\n",
    "print(f1_score(y_test, clf.predict(X_test_pca), average='micro')) #for quick test"
   ]
  },
  {
   "cell_type": "markdown",
   "metadata": {},
   "source": [
    "Quantitative evaluation of the model quality on the test set\n"
   ]
  },
  {
   "cell_type": "code",
   "execution_count": null,
   "metadata": {
    "collapsed": false
   },
   "outputs": [],
   "source": [
    "print(\"Predicting people's names on the test set\")\n",
    "t0 = time()\n",
    "y_pred = clf.predict(X_test_pca)\n",
    "print(\"done in %0.3fs\" % (time() - t0))\n",
    "#print(y_pred)\n",
    "\n",
    "print(f1_score(y_test, y_pred, average='micro'))\n",
    "print(classification_report(y_test, y_pred, target_names=target_names))\n",
    "#print(confusion_matrix(y_test, y_pred, labels=range(n_classes)))\n",
    "fo = open('out.txt', 'w')\n",
    "fo.write(\"ImageId,PredictedClass\"+\"\\n\")\n",
    "for i in range(y_pred.size):\n",
    "    fo.write(str(i) + \",\" + str(y_pred[i]) + \"\\n\")\n",
    "    print(str(i) + \",\" + str(y_pred[i]))\n",
    "fo.close()"
   ]
  },
  {
   "cell_type": "markdown",
   "metadata": {},
   "source": [
    "Qualitative evaluation of the predictions using matplotlib\n"
   ]
  },
  {
   "cell_type": "code",
   "execution_count": null,
   "metadata": {
    "collapsed": false
   },
   "outputs": [],
   "source": [
    "#def plot_gallery(images, titles, h, w, n_row=3, n_col=4):\n",
    "     #Helper function to plot a gallery of portraits\n",
    "#    plt.figure(figsize=(1.8 * n_col, 2.4 * n_row))\n",
    "#    plt.subplots_adjust(bottom=0, left=.01, right=.99, top=.90, hspace=.35)\n",
    "#    for i in range(n_row * n_col):\n",
    "#        plt.subplot(n_row, n_col, i + 1)\n",
    "#        plt.imshow(images[i].reshape((h, w)), cmap=plt.cm.gray)\n",
    "#        plt.title(titles[i], size=12)\n",
    "#        plt.xticks(())\n",
    "#        plt.yticks(())\n",
    "\n",
    "\n",
    "# plot the result of the prediction on a portion of the test set\n",
    "\n",
    "#def title(y_pred, y_test, target_names, i):\n",
    "#    pred_name = target_names[y_pred[i]].rsplit(' ', 1)[-1]\n",
    "#    true_name = target_names[y_test[i]].rsplit(' ', 1)[-1]\n",
    "#    return 'predicted: %s\\ntrue:      %s' % (pred_name, true_name)\n",
    "\n",
    "#prediction_titles = [title(y_pred, y_test, target_names, i)\n",
    "#                     for i in range(y_pred.shape[0])]\n",
    "\n",
    "#plot_gallery(X_test, prediction_titles, h, w)\n",
    "\n",
    "# plot the gallery of the most significative eigenfaces\n",
    "\n",
    "#eigenface_titles = [\"eigenface %d\" % i for i in range(eigenfaces.shape[0])]\n",
    "#plot_gallery(eigenfaces, eigenface_titles, h, w)\n",
    "\n",
    "#plt.show()"
   ]
  },
  {
   "cell_type": "code",
   "execution_count": null,
   "metadata": {
    "collapsed": true
   },
   "outputs": [],
   "source": []
  }
 ],
 "metadata": {
  "anaconda-cloud": {},
  "kernelspec": {
   "display_name": "Python [Root]",
   "language": "python",
   "name": "Python [Root]"
  },
  "language_info": {
   "codemirror_mode": {
    "name": "ipython",
    "version": 3
   },
   "file_extension": ".py",
   "mimetype": "text/x-python",
   "name": "python",
   "nbconvert_exporter": "python",
   "pygments_lexer": "ipython3",
   "version": "3.5.2"
  }
 },
 "nbformat": 4,
 "nbformat_minor": 0
}
