{
 "cells": [
  {
   "cell_type": "markdown",
   "metadata": {},
   "source": [
    "# Faces recognition using eigenfaces and SVMs\n"
   ]
  },
  {
   "cell_type": "code",
   "execution_count": 1,
   "metadata": {
    "collapsed": false
   },
   "outputs": [],
   "source": [
    "from sklearn.model_selection import GridSearchCV, StratifiedKFold\n",
    "from sklearn.decomposition import PCA\n",
    "from sklearn.svm import SVC\n",
    "\n",
    "import numpy as np"
   ]
  },
  {
   "cell_type": "code",
   "execution_count": 2,
   "metadata": {
    "collapsed": false
   },
   "outputs": [],
   "source": [
    "#load data from train and test set\n",
    "X_train = np.load('X_train.npy')\n",
    "y_train = np.load('y_train.npy')\n",
    "#X_test = np.load('X_test.npy')\n",
    "X_test = np.load('corrected.lfw.heldout.npy')\n"
   ]
  },
  {
   "cell_type": "code",
   "execution_count": 3,
   "metadata": {
    "collapsed": false
   },
   "outputs": [],
   "source": [
    "#number of eigenfaces to extract\n",
    "n_components = 125\n",
    "\n",
    "#height and width of X_train\n",
    "h = 50\n",
    "w = 37\n",
    "\n",
    "pca = PCA(n_components=n_components, svd_solver='randomized',\n",
    "          whiten=True).fit(X_train)\n",
    "eigenfaces = pca.components_.reshape((n_components, h, w))\n",
    "\n",
    "#X_train and X_test after transform to eigenfaces features\n",
    "X_train_pca = pca.transform(X_train)\n",
    "X_test_pca = pca.transform(X_test)\n"
   ]
  },
  {
   "cell_type": "code",
   "execution_count": 4,
   "metadata": {
    "collapsed": false
   },
   "outputs": [],
   "source": [
    "#parameters to search for the best estimator\n",
    "param_grid = [\n",
    "{'C': [0.1,1,10,100,1e3,5e3], 'kernel':['linear']},\n",
    "{'C': [0.1,1,10,100,1e3, 5e3], 'gamma': ['auto', 0.001, 0.005, 0.01, 0.05,0.1,0.5], 'kernel': ['rbf', 'sigmoid']},\n",
    "{'C': [0.1,1,10,100,1e3, 5e3],'gamma': ['auto', 0.001, 0.005, 0.01, 0.05,0.1,0.5],\n",
    " 'kernel': ['poly'], 'degree': [2,3]}]\n"
   ]
  },
  {
   "cell_type": "code",
   "execution_count": 5,
   "metadata": {
    "collapsed": false
   },
   "outputs": [
    {
     "name": "stdout",
     "output_type": "stream",
     "text": [
      "Searching for best estimator from given parameters\n",
      "SVC(C=1, cache_size=200, class_weight='balanced', coef0=0.0,\n",
      "  decision_function_shape=None, degree=3, gamma=0.005, kernel='rbf',\n",
      "  max_iter=-1, probability=False, random_state=None, shrinking=True,\n",
      "  tol=0.001, verbose=False)\n",
      "0.989648033126\n"
     ]
    }
   ],
   "source": [
    "print(\"Searching for best estimator from given parameters\")\n",
    "cv = StratifiedKFold(n_splits = 10)\n",
    "\n",
    "clf = GridSearchCV(SVC(class_weight='balanced'), param_grid, cv=cv, n_jobs=-1)\n",
    "clf = clf.fit(X_train_pca, y_train)\n",
    "\n",
    "fo = open('estimator.txt', 'w')\n",
    "fo.write(str(clf.best_estimator_) + \"\\n\")\n",
    "fo.close()\n",
    "print(clf.best_estimator_)\n",
    "print(clf.score(X_train_pca, y_train))\n",
    "\n",
    "y_pred = clf.predict(X_test_pca)\n",
    "fo = open('heldout.txt', 'w')\n",
    "fo.write(\"ImageId,PredictedClass\"+\"\\n\")\n",
    "for i in range(y_pred.size):\n",
    "    fo.write(str(i) + \",\" + str(y_pred[i]) + \"\\n\")\n",
    "fo.close()"
   ]
  },
  {
   "cell_type": "code",
   "execution_count": null,
   "metadata": {
    "collapsed": true
   },
   "outputs": [],
   "source": []
  }
 ],
 "metadata": {
  "anaconda-cloud": {},
  "kernelspec": {
   "display_name": "Python [Root]",
   "language": "python",
   "name": "Python [Root]"
  },
  "language_info": {
   "codemirror_mode": {
    "name": "ipython",
    "version": 3
   },
   "file_extension": ".py",
   "mimetype": "text/x-python",
   "name": "python",
   "nbconvert_exporter": "python",
   "pygments_lexer": "ipython3",
   "version": "3.5.2"
  }
 },
 "nbformat": 4,
 "nbformat_minor": 0
}
